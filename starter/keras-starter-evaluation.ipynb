{
 "cells": [
  {
   "cell_type": "code",
   "execution_count": 9,
   "metadata": {
    "collapsed": false
   },
   "outputs": [
    {
     "name": "stdout",
     "output_type": "stream",
     "text": [
      "{0: 'haze', 1: 'water', 2: 'blooming', 3: 'blow_down', 4: 'artisinal_mine', 5: 'primary', 6: 'agriculture', 7: 'clear', 8: 'cloudy', 9: 'selective_logging', 10: 'habitation', 11: 'partly_cloudy', 12: 'cultivation', 13: 'slash_burn', 14: 'road', 15: 'conventional_mine', 16: 'bare_ground'}\n"
     ]
    },
    {
     "name": "stderr",
     "output_type": "stream",
     "text": [
      "100%|██████████| 2/2 [00:00<00:00, 149.59it/s]\n"
     ]
    },
    {
     "name": "stdout",
     "output_type": "stream",
     "text": [
      "(2, 32, 32, 4)\n"
     ]
    },
    {
     "ename": "KeyError",
     "evalue": "7",
     "output_type": "error",
     "traceback": [
      "\u001b[0;31m---------------------------------------------------------------------------\u001b[0m",
      "\u001b[0;31mKeyError\u001b[0m                                  Traceback (most recent call last)",
      "\u001b[0;32m<ipython-input-9-06013bf1422f>\u001b[0m in \u001b[0;36m<module>\u001b[0;34m()\u001b[0m\n\u001b[1;32m     45\u001b[0m     \u001b[0;32mfor\u001b[0m \u001b[0midx\u001b[0m\u001b[0;34m,\u001b[0m \u001b[0mx\u001b[0m \u001b[0;32min\u001b[0m \u001b[0menumerate\u001b[0m\u001b[0;34m(\u001b[0m\u001b[0mrow\u001b[0m\u001b[0;34m)\u001b[0m\u001b[0;34m:\u001b[0m\u001b[0;34m\u001b[0m\u001b[0m\n\u001b[1;32m     46\u001b[0m         \u001b[0;32mif\u001b[0m \u001b[0;34m(\u001b[0m\u001b[0mx\u001b[0m\u001b[0;34m)\u001b[0m\u001b[0;34m:\u001b[0m\u001b[0;34m\u001b[0m\u001b[0m\n\u001b[0;32m---> 47\u001b[0;31m             \u001b[0mstring\u001b[0m \u001b[0;34m+=\u001b[0m \u001b[0;34m(\u001b[0m\u001b[0mlabel_map\u001b[0m\u001b[0;34m[\u001b[0m\u001b[0midx\u001b[0m\u001b[0;34m]\u001b[0m \u001b[0;34m+\u001b[0m \u001b[0;34m' '\u001b[0m\u001b[0;34m)\u001b[0m\u001b[0;34m\u001b[0m\u001b[0m\n\u001b[0m\u001b[1;32m     48\u001b[0m     \u001b[0moutput\u001b[0m\u001b[0;34m.\u001b[0m\u001b[0mwrite\u001b[0m\u001b[0;34m(\u001b[0m\u001b[0mstring\u001b[0m \u001b[0;34m+\u001b[0m \u001b[0;34m'\\n'\u001b[0m\u001b[0;34m)\u001b[0m\u001b[0;34m\u001b[0m\u001b[0m\n\u001b[1;32m     49\u001b[0m \u001b[0;34m\u001b[0m\u001b[0m\n",
      "\u001b[0;31mKeyError\u001b[0m: 7"
     ]
    }
   ],
   "source": [
    "import numpy as np # linear algebra\n",
    "import pandas as pd # data processing, CSV file I/O (e.g. pd.read_csv)\n",
    "import os\n",
    "import gc\n",
    "\n",
    "import keras as k\n",
    "from keras.models import Sequential, load_model\n",
    "from keras.layers import Dense, Dropout, Flatten\n",
    "from keras.layers import Conv2D, MaxPooling2D\n",
    "from keras.callbacks import ModelCheckpoint\n",
    "\n",
    "import cv2\n",
    "import tifffile as tiff\n",
    "from tqdm import tqdm\n",
    "\n",
    "x_test = []\n",
    "\n",
    "df_train = pd.read_csv('../../input/amazon/train.csv')\n",
    "\n",
    "flatten = lambda l: [item for sublist in l for item in sublist]\n",
    "labels = list(set(flatten([l.split(' ') for l in df_train['tags'].values])))\n",
    "\n",
    "label_map = {l: i for i, l in enumerate(labels)}\n",
    "inv_label_map = {i: l for l, i in label_map.items()}\n",
    "\n",
    "print(inv_label_map)\n",
    "\n",
    "test_tif = os.listdir('../../input/amazon/test-tif-v2/')\n",
    "for f in tqdm(test_tif[0:2], miniters=1000):\n",
    "    img = tiff.imread('../../input/amazon/test-tif-v2/{}'.format(f))\n",
    "    x_test.append(cv2.resize(img, (32, 32)))\n",
    "    \n",
    "x_test = np.array(x_test, np.float16) / 255.\n",
    "print(x_test.shape)\n",
    "\n",
    "model = load_model('../models/22-05-2017/keras-simple.model')\n",
    "y_pred = (model.predict(x_test) > 0.2)\n",
    "\n",
    "\n",
    "output = open('results.csv', 'w')\n",
    "output.write('image_name,tags\\n')\n",
    "\n",
    "for i, row in enumerate(y_pred):\n",
    "    string = test_tif[i][:-4] + ','\n",
    "    for idx, x in enumerate(row):\n",
    "        if (x):\n",
    "            string += (label_map[idx] + ' ')\n",
    "    output.write(string + '\\n')\n",
    "    \n",
    "output.close()"
   ]
  },
  {
   "cell_type": "code",
   "execution_count": 18,
   "metadata": {
    "collapsed": false
   },
   "outputs": [
    {
     "name": "stdout",
     "output_type": "stream",
     "text": [
      "clear\n",
      "conventional_mine\n",
      "haze\n",
      "clear\n",
      "cloudy\n",
      "cultivation\n",
      "road\n",
      "conventional_mine\n"
     ]
    }
   ],
   "source": [
    "for i, row in enumerate(y_pred):\n",
    "    string = test_tif[i][:-4] + ','\n",
    "    for idx, x in enumerate(row):\n",
    "        if (x):\n",
    "            string += (label_map[idx] + ' ')\n",
    "    "
   ]
  }
 ],
 "metadata": {
  "anaconda-cloud": {},
  "kernelspec": {
   "display_name": "Python [conda env:py35]",
   "language": "python",
   "name": "conda-env-py35-py"
  },
  "language_info": {
   "codemirror_mode": {
    "name": "ipython",
    "version": 3
   },
   "file_extension": ".py",
   "mimetype": "text/x-python",
   "name": "python",
   "nbconvert_exporter": "python",
   "pygments_lexer": "ipython3",
   "version": "3.5.2"
  }
 },
 "nbformat": 4,
 "nbformat_minor": 1
}
