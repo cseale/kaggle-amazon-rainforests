{
 "cells": [
  {
   "cell_type": "code",
   "execution_count": 1,
   "metadata": {
    "collapsed": false
   },
   "outputs": [
    {
     "name": "stdout",
     "output_type": "stream",
     "text": [
      "sample_submission.csv\n",
      "test-jpg\n",
      "test-tif\n",
      "train-jpg\n",
      "train-tif\n",
      "train.csv\n",
      "\n"
     ]
    }
   ],
   "source": [
    "# This Python 3 environment comes with many helpful analytics libraries installed\n",
    "# It is defined by the kaggle/python docker image: https://github.com/kaggle/docker-python\n",
    "# For example, here's several helpful packages to load in \n",
    "\n",
    "import numpy as np # linear algebra\n",
    "import pandas as pd # data processing, CSV file I/O (e.g. pd.read_csv)\n",
    "\n",
    "# Input data files are available in the \"../input/\" directory.\n",
    "# For example, running this (by clicking run or pressing Shift+Enter) will list the files in the input directory\n",
    "\n",
    "from subprocess import check_output\n",
    "print(check_output([\"ls\", \"../input\"]).decode(\"utf8\"))\n",
    "\n",
    "# Any results you write to the current directory are saved as output."
   ]
  },
  {
   "cell_type": "code",
   "execution_count": 2,
   "metadata": {
    "collapsed": false
   },
   "outputs": [
    {
     "name": "stdout",
     "output_type": "stream",
     "text": [
      "  image_name                                       tags\n",
      "0    train_0                               haze primary\n",
      "1    train_1            agriculture clear primary water\n",
      "2    train_2                              clear primary\n",
      "3    train_3                              clear primary\n",
      "4    train_4  agriculture clear habitation primary road\n"
     ]
    }
   ],
   "source": [
    "# coding: utf-8\n",
    "# import data\n",
    "import os\n",
    "import matplotlib.image as image\n",
    "import matplotlib.pyplot as plt\n",
    "\n",
    "PLANET_KAGGLE_ROOT = \"../input\"\n",
    "PLANET_KAGGLE_TIFF_DIR = PLANET_KAGGLE_ROOT + \"/train-tif/\"\n",
    "PLANET_KAGGLE_LABEL_CSV = PLANET_KAGGLE_ROOT + \"/train.csv\"\n",
    "\n",
    "# load label data\n",
    "# read our data and take a look at what we are dealing with\n",
    "train_csv = pd.read_csv(PLANET_KAGGLE_LABEL_CSV)\n",
    "print(train_csv.head())\n",
    "\n",
    "# load tiff data\n",
    "# load files\n",
    "train_tiff_sample = os.listdir(PLANET_KAGGLE_TIFF_DIR)\n",
    "\n",
    "# pick just cloudy images for now\n",
    "\n",
    "AVAILABLE_LABELS = [\n",
    "    'agriculture', \n",
    "    'artisinal_mine', \n",
    "    'bare_ground', \n",
    "    'blooming', \n",
    "    'blow_down', \n",
    "    'clear', \n",
    "    'cloudy', \n",
    "    'conventional_mine', \n",
    "    'cultivation', \n",
    "    'habitation', \n",
    "    'haze', \n",
    "    'partly_cloudy', \n",
    "    'primary', \n",
    "    'road', \n",
    "    'selective_logging', \n",
    "    'slash_burn', \n",
    "    'water']\n",
    "\n",
    "tags = pd.DataFrame()\n",
    "\n",
    "for label in AVAILABLE_LABELS:\n",
    "    tags[label] = train_csv.tags.apply(lambda x: np.where(label in x, 1, 0))\n",
    "\n",
    "train = pd.concat([train_csv, tags], axis=1)\n",
    "filtered_samples = [sample[0:-4] for sample in train_tiff_sample]\n",
    "\n",
    "# get labels for these files\n",
    "sample_labels = train[train['image_name'].isin(filtered_samples)]\n",
    "sample_labels.reset_index(inplace=True)\n",
    "\n",
    "from glob import glob\n",
    "from skimage import io\n",
    "image_paths = sorted(glob('../input/train-tif/*.tif'))[0:1000]\n",
    "imgs = [io.imread(path) for path in image_paths]"
   ]
  },
  {
   "cell_type": "code",
   "execution_count": 3,
   "metadata": {
    "collapsed": true
   },
   "outputs": [],
   "source": [
    "flattened_imgs = [img.flatten() for img in imgs[0:5]]"
   ]
  },
  {
   "cell_type": "code",
   "execution_count": 4,
   "metadata": {
    "collapsed": true
   },
   "outputs": [],
   "source": [
    "df = pd.DataFrame.from_records(flattened_imgs)"
   ]
  },
  {
   "cell_type": "code",
   "execution_count": 6,
   "metadata": {
    "collapsed": false
   },
   "outputs": [
    {
     "data": {
      "text/html": [
       "<div>\n",
       "<table border=\"1\" class=\"dataframe\">\n",
       "  <thead>\n",
       "    <tr style=\"text-align: right;\">\n",
       "      <th></th>\n",
       "      <th>cloudy</th>\n",
       "    </tr>\n",
       "  </thead>\n",
       "  <tbody>\n",
       "    <tr>\n",
       "      <th>0</th>\n",
       "      <td>0</td>\n",
       "    </tr>\n",
       "    <tr>\n",
       "      <th>1</th>\n",
       "      <td>0</td>\n",
       "    </tr>\n",
       "    <tr>\n",
       "      <th>2</th>\n",
       "      <td>0</td>\n",
       "    </tr>\n",
       "    <tr>\n",
       "      <th>3</th>\n",
       "      <td>0</td>\n",
       "    </tr>\n",
       "    <tr>\n",
       "      <th>4</th>\n",
       "      <td>0</td>\n",
       "    </tr>\n",
       "  </tbody>\n",
       "</table>\n",
       "</div>"
      ],
      "text/plain": [
       "   cloudy\n",
       "0       0\n",
       "1       0\n",
       "2       0\n",
       "3       0\n",
       "4       0"
      ]
     },
     "execution_count": 6,
     "metadata": {},
     "output_type": "execute_result"
    }
   ],
   "source": [
    "sample_labels = sample_labels[['cloudy']][0:5]\n",
    "sample_labels"
   ]
  },
  {
   "cell_type": "code",
   "execution_count": 7,
   "metadata": {
    "collapsed": true
   },
   "outputs": [],
   "source": [
    "df = pd.concat([sample_labels[['cloudy']][0:5], df], axis=1)"
   ]
  },
  {
   "cell_type": "code",
   "execution_count": null,
   "metadata": {
    "collapsed": true
   },
   "outputs": [],
   "source": [
    "# running out of memory, need to spin up a server for development"
   ]
  },
  {
   "cell_type": "code",
   "execution_count": 8,
   "metadata": {
    "collapsed": false
   },
   "outputs": [
    {
     "data": {
      "text/html": [
       "<div>\n",
       "<table border=\"1\" class=\"dataframe\">\n",
       "  <thead>\n",
       "    <tr style=\"text-align: right;\">\n",
       "      <th></th>\n",
       "      <th>cloudy</th>\n",
       "      <th>0</th>\n",
       "      <th>1</th>\n",
       "      <th>2</th>\n",
       "      <th>3</th>\n",
       "      <th>4</th>\n",
       "      <th>5</th>\n",
       "      <th>6</th>\n",
       "      <th>7</th>\n",
       "      <th>8</th>\n",
       "      <th>...</th>\n",
       "      <th>262134</th>\n",
       "      <th>262135</th>\n",
       "      <th>262136</th>\n",
       "      <th>262137</th>\n",
       "      <th>262138</th>\n",
       "      <th>262139</th>\n",
       "      <th>262140</th>\n",
       "      <th>262141</th>\n",
       "      <th>262142</th>\n",
       "      <th>262143</th>\n",
       "    </tr>\n",
       "  </thead>\n",
       "  <tbody>\n",
       "    <tr>\n",
       "      <th>0</th>\n",
       "      <td>0</td>\n",
       "      <td>5264</td>\n",
       "      <td>4412</td>\n",
       "      <td>2859</td>\n",
       "      <td>6621</td>\n",
       "      <td>5176</td>\n",
       "      <td>4358</td>\n",
       "      <td>2817</td>\n",
       "      <td>6596</td>\n",
       "      <td>5235</td>\n",
       "      <td>...</td>\n",
       "      <td>2676</td>\n",
       "      <td>6424</td>\n",
       "      <td>5235</td>\n",
       "      <td>4342</td>\n",
       "      <td>2821</td>\n",
       "      <td>6363</td>\n",
       "      <td>5205</td>\n",
       "      <td>4340</td>\n",
       "      <td>2824</td>\n",
       "      <td>6281</td>\n",
       "    </tr>\n",
       "    <tr>\n",
       "      <th>1</th>\n",
       "      <td>0</td>\n",
       "      <td>4096</td>\n",
       "      <td>3315</td>\n",
       "      <td>2195</td>\n",
       "      <td>6003</td>\n",
       "      <td>4120</td>\n",
       "      <td>3347</td>\n",
       "      <td>2183</td>\n",
       "      <td>6271</td>\n",
       "      <td>4167</td>\n",
       "      <td>...</td>\n",
       "      <td>2944</td>\n",
       "      <td>7315</td>\n",
       "      <td>4645</td>\n",
       "      <td>4132</td>\n",
       "      <td>2989</td>\n",
       "      <td>7455</td>\n",
       "      <td>4809</td>\n",
       "      <td>4269</td>\n",
       "      <td>3153</td>\n",
       "      <td>7540</td>\n",
       "    </tr>\n",
       "    <tr>\n",
       "      <th>2</th>\n",
       "      <td>0</td>\n",
       "      <td>3663</td>\n",
       "      <td>3015</td>\n",
       "      <td>1863</td>\n",
       "      <td>6476</td>\n",
       "      <td>3851</td>\n",
       "      <td>3137</td>\n",
       "      <td>2005</td>\n",
       "      <td>6474</td>\n",
       "      <td>3814</td>\n",
       "      <td>...</td>\n",
       "      <td>2326</td>\n",
       "      <td>5289</td>\n",
       "      <td>4062</td>\n",
       "      <td>3529</td>\n",
       "      <td>2456</td>\n",
       "      <td>5029</td>\n",
       "      <td>4054</td>\n",
       "      <td>3556</td>\n",
       "      <td>2535</td>\n",
       "      <td>4571</td>\n",
       "    </tr>\n",
       "    <tr>\n",
       "      <th>3</th>\n",
       "      <td>0</td>\n",
       "      <td>5371</td>\n",
       "      <td>4193</td>\n",
       "      <td>2944</td>\n",
       "      <td>2145</td>\n",
       "      <td>5290</td>\n",
       "      <td>4138</td>\n",
       "      <td>2912</td>\n",
       "      <td>2080</td>\n",
       "      <td>5260</td>\n",
       "      <td>...</td>\n",
       "      <td>2961</td>\n",
       "      <td>2178</td>\n",
       "      <td>5391</td>\n",
       "      <td>4271</td>\n",
       "      <td>2989</td>\n",
       "      <td>2153</td>\n",
       "      <td>5365</td>\n",
       "      <td>4265</td>\n",
       "      <td>3000</td>\n",
       "      <td>2112</td>\n",
       "    </tr>\n",
       "    <tr>\n",
       "      <th>4</th>\n",
       "      <td>0</td>\n",
       "      <td>5252</td>\n",
       "      <td>4329</td>\n",
       "      <td>2935</td>\n",
       "      <td>8489</td>\n",
       "      <td>5071</td>\n",
       "      <td>4091</td>\n",
       "      <td>2779</td>\n",
       "      <td>7395</td>\n",
       "      <td>5204</td>\n",
       "      <td>...</td>\n",
       "      <td>2609</td>\n",
       "      <td>4270</td>\n",
       "      <td>5094</td>\n",
       "      <td>3973</td>\n",
       "      <td>2725</td>\n",
       "      <td>4285</td>\n",
       "      <td>5133</td>\n",
       "      <td>4062</td>\n",
       "      <td>2750</td>\n",
       "      <td>4486</td>\n",
       "    </tr>\n",
       "  </tbody>\n",
       "</table>\n",
       "<p>5 rows × 262145 columns</p>\n",
       "</div>"
      ],
      "text/plain": [
       "   cloudy     0     1     2     3     4     5     6     7     8   ...    \\\n",
       "0       0  5264  4412  2859  6621  5176  4358  2817  6596  5235   ...     \n",
       "1       0  4096  3315  2195  6003  4120  3347  2183  6271  4167   ...     \n",
       "2       0  3663  3015  1863  6476  3851  3137  2005  6474  3814   ...     \n",
       "3       0  5371  4193  2944  2145  5290  4138  2912  2080  5260   ...     \n",
       "4       0  5252  4329  2935  8489  5071  4091  2779  7395  5204   ...     \n",
       "\n",
       "   262134  262135  262136  262137  262138  262139  262140  262141  262142  \\\n",
       "0    2676    6424    5235    4342    2821    6363    5205    4340    2824   \n",
       "1    2944    7315    4645    4132    2989    7455    4809    4269    3153   \n",
       "2    2326    5289    4062    3529    2456    5029    4054    3556    2535   \n",
       "3    2961    2178    5391    4271    2989    2153    5365    4265    3000   \n",
       "4    2609    4270    5094    3973    2725    4285    5133    4062    2750   \n",
       "\n",
       "   262143  \n",
       "0    6281  \n",
       "1    7540  \n",
       "2    4571  \n",
       "3    2112  \n",
       "4    4486  \n",
       "\n",
       "[5 rows x 262145 columns]"
      ]
     },
     "execution_count": 8,
     "metadata": {},
     "output_type": "execute_result"
    }
   ],
   "source": [
    "df"
   ]
  },
  {
   "cell_type": "code",
   "execution_count": null,
   "metadata": {
    "collapsed": true
   },
   "outputs": [],
   "source": []
  }
 ],
 "metadata": {
  "kernelspec": {
   "display_name": "Python [conda env:py35]",
   "language": "python",
   "name": "conda-env-py35-py"
  },
  "language_info": {
   "codemirror_mode": {
    "name": "ipython",
    "version": 3
   },
   "file_extension": ".py",
   "mimetype": "text/x-python",
   "name": "python",
   "nbconvert_exporter": "python",
   "pygments_lexer": "ipython3",
   "version": "3.5.2"
  }
 },
 "nbformat": 4,
 "nbformat_minor": 0
}
